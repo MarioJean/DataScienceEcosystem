{
 "cells": [
  {
   "cell_type": "markdown",
   "id": "957e568a-317d-4701-81df-b0db786e010d",
   "metadata": {},
   "source": [
    "# Data Science Tools and Ecosystem"
   ]
  },
  {
   "cell_type": "markdown",
   "id": "43b0559d-5c90-4c64-8f0e-81fa98323db4",
   "metadata": {},
   "source": [
    "In this notebook, Data Science Tools and Ecosystem are summarized."
   ]
  },
  {
   "cell_type": "markdown",
   "id": "8d6a213d-1cad-4b42-8d76-cae2f8aea6a6",
   "metadata": {},
   "source": [
    "**Objectives:**\n",
    "- List popular languages for Data Science\n",
    "- List commonly used libraries for Data Science\n",
    "- List data science tools"
   ]
  },
  {
   "cell_type": "markdown",
   "id": "79685945-ba02-4a08-85bb-6a5973bb9762",
   "metadata": {},
   "source": [
    "Some of the popular languages that Data Scientists use are:\n",
    "1. Python\n",
    "2. R\n",
    "3. SQl\n",
    "4. Scala\n",
    "5. Julia"
   ]
  },
  {
   "cell_type": "markdown",
   "id": "633a294d-a532-4492-b56b-81f0df00905c",
   "metadata": {},
   "source": [
    "Some of the commonly used libraries used by Data Scientists include:\n",
    "1. Pandas\n",
    "2. Numpy\n",
    "3. Matplotlib\n",
    "4. Sci-kit learn"
   ]
  },
  {
   "cell_type": "markdown",
   "id": "9e5430e2-3ac5-4b0d-aa56-4b23d1b45002",
   "metadata": {},
   "source": [
    "| Data Science Tools |\n",
    "|--------------------|\n",
    "|MySQL               |\n",
    "|Kubeflow            |\n",
    "|Spyder              |"
   ]
  },
  {
   "cell_type": "markdown",
   "id": "f67999a9-9302-4490-ae9a-080f29a8a75c",
   "metadata": {},
   "source": [
    "### Below are a few examples of evaluating arithmetic expressions in Python."
   ]
  },
  {
   "cell_type": "code",
   "execution_count": 8,
   "id": "0d5ad2fc-3e9c-4324-a052-6c6a07fe8789",
   "metadata": {},
   "outputs": [
    {
     "data": {
      "text/plain": [
       "17"
      ]
     },
     "execution_count": 8,
     "metadata": {},
     "output_type": "execute_result"
    }
   ],
   "source": [
    "# This is a simple arithmetic expression to multiply then add integers\n",
    "(3*4)+5"
   ]
  },
  {
   "cell_type": "code",
   "execution_count": 10,
   "id": "259e4578-0ca2-4e90-a7d0-ab995456906f",
   "metadata": {},
   "outputs": [
    {
     "data": {
      "text/plain": [
       "3.3333333333333335"
      ]
     },
     "execution_count": 10,
     "metadata": {},
     "output_type": "execute_result"
    }
   ],
   "source": [
    "# This will convert 200 minutes to hours by dividing by 60\n",
    "200/60"
   ]
  },
  {
   "cell_type": "markdown",
   "id": "1511525c-0eb7-4aa4-9109-4961101d0eff",
   "metadata": {},
   "source": [
    "## Author\n",
    "Jean Mario"
   ]
  },
  {
   "cell_type": "code",
   "execution_count": null,
   "id": "d4089d6b-a612-49cb-9e02-c953b0477232",
   "metadata": {},
   "outputs": [],
   "source": []
  }
 ],
 "metadata": {
  "kernelspec": {
   "display_name": "Python 3 (ipykernel)",
   "language": "python",
   "name": "python3"
  },
  "language_info": {
   "codemirror_mode": {
    "name": "ipython",
    "version": 3
   },
   "file_extension": ".py",
   "mimetype": "text/x-python",
   "name": "python",
   "nbconvert_exporter": "python",
   "pygments_lexer": "ipython3",
   "version": "3.12.4"
  }
 },
 "nbformat": 4,
 "nbformat_minor": 5
}
